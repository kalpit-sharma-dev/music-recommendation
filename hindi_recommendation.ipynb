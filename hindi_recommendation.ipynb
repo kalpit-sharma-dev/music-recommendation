{
 "cells": [
  {
   "cell_type": "code",
   "execution_count": 2,
   "id": "668c4c62",
   "metadata": {},
   "outputs": [
    {
     "name": "stderr",
     "output_type": "stream",
     "text": [
      "C:\\Users\\kalpi\\AppData\\Local\\Temp\\ipykernel_16436\\1604760792.py:14: FutureWarning: Setting an item of incompatible dtype is deprecated and will raise an error in a future version of pandas. Value '' has dtype incompatible with float64, please explicitly cast to a compatible dtype first.\n",
      "  df.fillna('', inplace=True)\n"
     ]
    }
   ],
   "source": [
    "import pandas as pd\n",
    "from sklearn.feature_extraction.text import TfidfVectorizer\n",
    "from sklearn.metrics.pairwise import cosine_similarity\n",
    "import pickle\n",
    "\n",
    "# Load the data\n",
    "df = pd.read_csv('Hindi_songs.csv')\n",
    "\n",
    "# Data preprocessing\n",
    "# Convert duration to seconds\n",
    "df['duration'] = df['duration'].apply(lambda x: int(x.split(':')[0])*60 + int(x.split(':')[1]))\n",
    "\n",
    "# Handle missing values if any\n",
    "df.fillna('', inplace=True)\n",
    "\n",
    "# Create a combined feature for recommendation\n",
    "df['combined_features'] = df.apply(lambda row: \n",
    "    f\"{row['singer']} {row['language']} {row['danceability']} {row['energy']} {row['tempo']}\", axis=1)\n",
    "\n",
    "# Initialize TF-IDF Vectorizer\n",
    "tfidf = TfidfVectorizer(stop_words='english')\n",
    "tfidf_matrix = tfidf.fit_transform(df['combined_features'])\n",
    "\n",
    "# Compute cosine similarity matrix\n",
    "cosine_sim = cosine_similarity(tfidf_matrix, tfidf_matrix)"
   ]
  },
  {
   "cell_type": "code",
   "execution_count": 3,
   "id": "0c60c824",
   "metadata": {},
   "outputs": [],
   "source": [
    "def get_recommendations(title, cosine_sim=cosine_sim, df=df):\n",
    "    # Get the index of the song that matches the title\n",
    "    idx = df[df['song_name'] == title].index[0]\n",
    "    \n",
    "    # Get the pairwise similarity scores\n",
    "    sim_scores = list(enumerate(cosine_sim[idx]))\n",
    "    \n",
    "    # Sort the songs based on the similarity scores\n",
    "    sim_scores = sorted(sim_scores, key=lambda x: x[1], reverse=True)\n",
    "    \n",
    "    # Get the scores of the 10 most similar songs\n",
    "    sim_scores = sim_scores[1:11]\n",
    "    \n",
    "    # Get the song indices\n",
    "    song_indices = [i[0] for i in sim_scores]\n",
    "    \n",
    "    # Return the top 10 most similar songs\n",
    "    return df[['song_name', 'singer', 'duration', 'popularity']].iloc[song_indices]"
   ]
  },
  {
   "cell_type": "code",
   "execution_count": 4,
   "id": "c2d94aa6",
   "metadata": {},
   "outputs": [],
   "source": [
    "# Save the cosine similarity matrix and dataframe\n",
    "with open('music_recommender.pkl', 'wb') as f:\n",
    "    pickle.dump({'cosine_sim': cosine_sim, 'df': df}, f)\n",
    "\n",
    "# Save the TF-IDF vectorizer\n",
    "with open('tfidf_vectorizer.pkl', 'wb') as f:\n",
    "    pickle.dump(tfidf, f)"
   ]
  }
 ],
 "metadata": {
  "kernelspec": {
   "display_name": ".venv",
   "language": "python",
   "name": "python3"
  },
  "language_info": {
   "codemirror_mode": {
    "name": "ipython",
    "version": 3
   },
   "file_extension": ".py",
   "mimetype": "text/x-python",
   "name": "python",
   "nbconvert_exporter": "python",
   "pygments_lexer": "ipython3",
   "version": "3.10.3"
  }
 },
 "nbformat": 4,
 "nbformat_minor": 5
}
